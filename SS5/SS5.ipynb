{
 "cells": [
  {
   "cell_type": "markdown",
   "metadata": {},
   "source": [
    "# Buổi 5: Thuật toán sắp xếp\n",
    "\n",
    "- Bài toán sắp xếp \n",
    "- Các dạng thuật toán sắp xếp: Selection Sort, Bubble Sort, Insertion Sort"
   ]
  },
  {
   "cell_type": "markdown",
   "metadata": {},
   "source": [
    "##### Giới thiệu về bài toán sắp xếp \n",
    "- Bài toán sắp xếp là bài toán sắp xếp một danh sách dữ liệu để dễ dàng truy vấn theo thứ tự tăng dần/ giảm dần. Tùy đặc trưng bài toán mà ta định nghĩa thế nào tăng dần hoặc giảm dần.\n",
    "- Sx là một bài toán phổ biến trong lập trình:\n",
    "+ Sx danh sách lớp theo tên\n",
    "+ Sx file trong thư mục theo tên, ngày tạo, ngày sửa, kích thước, ...\n",
    "+ Sx thứ tự xuất hiện của các cửa hàng trên: Grab, Foody, Shoppee Food, XanhSM, Bee,  \n",
    "\n",
    "Bài học giới thiệu các thuật toán cơ bản nhất để sx một danh sách\n",
    "Khi xử lý một bài toán sx, ta quan tâm đến các đặc trưng của dữ liệu cần sắp xếp:\n",
    "+ Phân bổ của dữ liệu (ngẫu nhiên, gần như theo thứ tự, ngược thứ tự, ...)\n",
    "+ Kiểu dữ liệu của các phần tử\n",
    "+ Cách tổ chức của tập dữ liệu và của các phần tử."
   ]
  },
  {
   "cell_type": "code",
   "execution_count": 5,
   "metadata": {},
   "outputs": [],
   "source": [
    "# run this cell FIRST\n",
    "import matplotlib.pyplot as plt\n",
    "\n",
    "def show_list(arr, title=''):\n",
    "    fig, ax = plt.subplots(figsize=(20, 4)) # Tạo một figure (khung chính) và axes (trục biểu đồ).\n",
    "    ax.bar(range(len(arr)), arr) # ax là đối tượng Axes, đại diện cho khu vực biểu đồ \n",
    "    ax.set_title(title) \n",
    "    ax.set_xlabel('index')\n",
    "    ax.set_xticks(range(len(arr)))\n",
    "    ax.spines['top'].set_visible(False)\n",
    "    ax.spines['right'].set_visible(False)\n",
    "    plt.show()"
   ]
  },
  {
   "cell_type": "markdown",
   "metadata": {},
   "source": [
    "## 1. Selection Sort\n",
    "Bài toán: Cho một dãi gồm 0 < n < 106 số nguyên, mỗi số có giá trị trong khoảng [0, 109], sắp xếp dãy trên theo thứ tự tăng dần"
   ]
  },
  {
   "cell_type": "code",
   "execution_count": 6,
   "metadata": {},
   "outputs": [
    {
     "data": {
      "image/png": "[encoded data removed]",
      "text/plain": [
       "<Figure size 2000x400 with 1 Axes>"
      ]
     },
     "metadata": {},
     "output_type": "display_data"
    }
   ],
   "source": [
    "number_list = [5, 9, 1, 12, 30, 35, 75, 10, 15, 20, 4, 0, 20, 0, 20, 3, 6, 14]\n",
    "show_list(number_list, title='number_list') "
   ]
  },
  {
   "cell_type": "markdown",
   "metadata": {},
   "source": [
    "**Cách tiếp cận**\n",
    "Selection Sort sử dụng cách tiếp cận đơn giản nhất: \n",
    "- Tìm phần tử nhỏ nhất và chuyển lên đầu dãy\n",
    "- Sau đó, tiếp tục tìm phần tử nhỏ nhất trong phần còn lại của dãy và chuyển lên vị trí thứ hai\n",
    "- Tiếp tục như vậy đến khi hết dãy"
   ]
  },
  {
   "cell_type": "code",
   "execution_count": 9,
   "metadata": {},
   "outputs": [],
   "source": [
    "# get the index of the smallest element, from the specified index to the end of list\n",
    "def find_min(data_list, from_index):\n",
    "    min_ind = from_index # gán chỉ số của phần tử nhỏ nhất hiện tại là from_index\n",
    "    for i in range(from_index + 1, len(data_list)):\n",
    "        if data_list[i] < data_list[min_ind]:\n",
    "            min_ind = i\n",
    "    return min_ind\n",
    "\n",
    "def selection_sort(data_list):\n",
    "    for i in range(len(data_list) - 1):\n",
    "        min_ind = find_min(data_list, i) ## get the index of the min\n",
    "        if min_ind != i: # swap current item and the min\n",
    "            data_list[i], data_list[min_ind] = data_list[min_ind], data_list[i]"
   ]
  },
  {
   "cell_type": "code",
   "execution_count": 10,
   "metadata": {},
   "outputs": [
    {
     "name": "stdout",
     "output_type": "stream",
     "text": [
      "Before sorting: [5, 9, 1, 12, 30, 35, 75, 10, 15, 20, 4, 0, 20, 0, 20, 3, 6, 14]\n",
      "After sorting: [0, 0, 1, 3, 4, 5, 6, 9, 10, 12, 14, 15, 20, 20, 20, 30, 35, 75]\n"
     ]
    }
   ],
   "source": [
    "number_list2 = number_list[:] ## shallow copy, only coppy element references\n",
    "\n",
    "selection_sort(number_list2)\n",
    "\n",
    "print(\"Before sorting: {}\".format(number_list))\n",
    "print(\"After sorting: {}\".format(number_list2))"
   ]
  },
  {
   "cell_type": "markdown",
   "metadata": {},
   "source": [
    "**Cách hoạt động:**\n",
    "- Thuật toán Selection Sort chia danh sách cần sắp xếp thành 2 phần: đã được sắp xếp (nằm bên trái) và chưa được sắp xếp (nằm bên phải).\n",
    "- Ở mỗi lần lặp, thuật toán tìm phần tử nhỏ nhất của phần chưa sắp xếp để đưa vào cuối phần đã sắp xếp"
   ]
  }
 ],
 "metadata": {
  "kernelspec": {
   "display_name": "base",
   "language": "python",
   "name": "python3"
  },
  "language_info": {
   "codemirror_mode": {
    "name": "ipython",
    "version": 3
   },
   "file_extension": ".py",
   "mimetype": "text/x-python",
   "name": "python",
   "nbconvert_exporter": "python",
   "pygments_lexer": "ipython3",
   "version": "3.12.7"
  }
 },
 "nbformat": 4,
 "nbformat_minor": 2
}
