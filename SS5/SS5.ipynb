{
 "cells": [
  {
   "cell_type": "markdown",
   "metadata": {},
   "source": [
    "# Buổi 5: Thuật toán sắp xếp\n",
    "\n",
    "- Bài toán sắp xếp \n",
    "- Các dạng thuật toán sắp xếp: Selection Sort, Bubble Sort, Insertion Sort"
   ]
  },
  {
   "cell_type": "markdown",
   "metadata": {},
   "source": [
    "##### Giới thiệu về bài toán sắp xếp \n",
    "- Bài toán sắp xếp là bài toán sắp xếp một danh sách dữ liệu để dễ dàng truy vấn theo thứ tự tăng dần/ giảm dần. Tùy đặc trưng bài toán mà ta định nghĩa thế nào tăng dần hoặc giảm dần.\n",
    "- Sx là một bài toán phổ biến trong lập trình:\n",
    "+ Sx danh sách lớp theo tên\n",
    "+ Sx file trong thư mục theo tên, ngày tạo, ngày sửa, kích thước, ...\n",
    "+ Sx thứ tự xuất hiện của các cửa hàng trên: Grab, Foody, Shoppee Food, XanhSM, Bee,  "
   ]
  }
 ],
 "metadata": {
  "kernelspec": {
   "display_name": "base",
   "language": "python",
   "name": "python3"
  },
  "language_info": {
   "name": "python",
   "version": "3.12.7"
  }
 },
 "nbformat": 4,
 "nbformat_minor": 2
}
