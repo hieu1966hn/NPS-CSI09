{
 "cells": [
  {
   "cell_type": "markdown",
   "metadata": {},
   "source": [
    "# Buổi 11: Thuật toán tìm đường (phần 1)\n",
    "- Bài toán tìm đường\n",
    "- Thuật toán: DFS"
   ]
  },
  {
   "cell_type": "markdown",
   "metadata": {},
   "source": [
    "### Giới thiệu bài toán tìm đường\n",
    "- Tìm đường là bài toán tìm kiếm đường di để duyệt qua tất cả các đỉnh trong một đồ thị.\n",
    "- Ứng dụng phổ biến nhất của thuật toán tìm đường là tìm đường đi trên bản đồ, như tìm đường cho các phương tiện khác nhau trên Google Maps\n",
    "- Tuy nhiên, ứng dụng của thuật toán tìm đường rất đa dạng: \n",
    "+ Tìm đường để thoát khỏi mê cung\n",
    "+ Tìm các bước để giải một khối rubik\n",
    "+ Xác định hướng truy đuổi cho các con \"ma\" trong game Pacman\n",
    "+ Xác định các vật thể khác nhau trong một bức ảnh\n",
    "+ Xác định màu để tô cho các nước trên bản đồ sao cho sử dụng ít màu nhất.\n",
    "+ Xác định lô trình khám phá cho robot trên hành tinh khác sao cho không bị mắc kẹt hoặc rơi xuống vực."
   ]
  },
  {
   "cell_type": "markdown",
   "metadata": {},
   "source": [
    "## 2. DFS: Depth-First Search (tìm kiếm chiều sâu)\n",
    "\n",
    "**DFS** là thuật toán duyệt qua các đỉnh trong một đồ thị với tư tưởng: bắt đầu từ một đỉnh bất kỳ, duyệt theo các đỉnh kề để đến đỉnh xa nhất có thể trên mỗi nhánh, sau đó trở lại các điểm rẽ nhánh và tiếp tục duyệt\n",
    "\n",
    "**Thuật toán** duyệt DFS: \n",
    "1. Duyệt đỉnh xuất phát, đánh dấu đỉnh xuất phát đã được duyệt\n",
    "2. Xét các đỉnh kề với đỉnh đang duyệt: \n",
    "    2.1. Nếu đỉnh đang xét chưa được duyệt => duyệt đỉnh đang xét\n",
    "    2.2. Nếu đỉnh đang xét đã được duyệt => bỏ qua\n",
    "\n",
    "\n",
    "Thuật toán DFS có thể được cài đặt khá đơn giản với một hàm đệ quy như sau: "
   ]
  },
  {
   "cell_type": "code",
   "execution_count": 1,
   "metadata": {},
   "outputs": [],
   "source": [
    "# vertex: Đỉnh hiện tại đang duyệt\n",
    "# graph: Đồ thị được biểu diễn dưới dạng danh sách kề (adjacency list).\n",
    "# visited: một SET lưu các đỉnh đã được duyệt để tránh lặp vô hạn\n",
    "\n",
    "def dfs_recursive(vertex, graph, visited): \n",
    "    \n",
    "    # mark curent vertex as visited\n",
    "    visited.add(vertex) # đã duyệt thêm nó vào tập set\n",
    "    print(vertex, end=\" \")\n",
    "    \n",
    "    # traverse adjacent branches recursively\n",
    "    for next_vertex in graph[vertex]:  # lặp qua tất cả các đỉnh kề của 'vertex'\n",
    "        if next_vertex not in visited:  # nếu đỉnh kề next_vertex \"chưa được duyệt\" => gọi đệ quy để tiếp tục duyệt đỉnh đó\n",
    "            dfs_recursive(next_vertex, graph, visited)\n",
    "            \n",
    "\n",
    "# Hàm này dùng để khởi động quá trình duyệt DFS từ một đỉnh nhất định\n",
    "def dfs(graph, start):\n",
    "    print(\"Traverse path: \", end=\"\")\n",
    "    dfs_recursive(start, graph, set()) ## Khởi tạo 'visited\" là tập rỗng (0 phần tử)\n",
    "    \n",
    "    \n",
    "    "
   ]
  },
  {
   "cell_type": "code",
   "execution_count": 3,
   "metadata": {},
   "outputs": [],
   "source": [
    "# VD\n",
    "graph = {\n",
    "    \"A\": ['B', 'C'], \n",
    "    \"B\": ['A', \"D\", \"E\"],\n",
    "    \"C\": [\"A\", \"F\", \"G\"],\n",
    "    \"D\": ['B'],\n",
    "    \"E\": ['B'],\n",
    "    \"F\": ['C'],\n",
    "    \"G\": ['C'],\n",
    "}"
   ]
  },
  {
   "cell_type": "code",
   "execution_count": 4,
   "metadata": {},
   "outputs": [
    {
     "name": "stdout",
     "output_type": "stream",
     "text": [
      "Traverse path: A B D E C F G "
     ]
    }
   ],
   "source": [
    "dfs(graph, 'A')"
   ]
  },
  {
   "cell_type": "markdown",
   "metadata": {},
   "source": [
    "Tổng kết: \n",
    "- Mỗi đỉnh được thăm một lần => Tránh vòng lặp\n",
    "- Đi sâu vào nhánh trước => DFS ưu tiên theo chiều sâu trước khi quay lại\n",
    "- Dùng visited để kiểm tra các đỉnh đã duyệt => tránh lặp vô hạn\n",
    "\n",
    "=> DFS đệ quy đơn giản nhưng hiệu quả, phù hợp cho nhiều bài toán như tìm đường, kiểm tra chu trình, hoặc sinh cây tìm kiếm."
   ]
  },
  {
   "cell_type": "markdown",
   "metadata": {},
   "source": [
    "Duyệt đồ thị bằng DFS\n",
    "\n",
    "Bài 2: Cho một đồ thị vô hướng được biểu diễn bằng danh sách kề. Hãy sử dụng DFS để in ra thứ tự duyệt các đỉnh, bắt đầu từ một đỉnh cho trước.\n",
    "\n",
    "Nâng cấp yêu cầu: \n",
    "- Viết hàm kiểm tra xem có đường đi từ đỉnh \"start\" đến đỉnh \"end\" trong đồ thì này hay không? VD: \n",
    "+ Start: 1\n",
    "+ End: 7\n",
    "\n",
    "Nếu có: Path exists: True\n",
    "Nếu không có: Path exists: False\n",
    "\n",
    "VD đầu vào: \n"
   ]
  },
  {
   "cell_type": "code",
   "execution_count": 5,
   "metadata": {},
   "outputs": [],
   "source": [
    "graph = {\n",
    "    1: [2,3],\n",
    "    2: [1,4,5],\n",
    "    3: [1,6,7],\n",
    "    4: [2],\n",
    "    5: [2],\n",
    "    6: [3],\n",
    "    7: [3]\n",
    "}"
   ]
  },
  {
   "cell_type": "markdown",
   "metadata": {},
   "source": [
    "Đầu ra mong muốn"
   ]
  },
  {
   "cell_type": "markdown",
   "metadata": {},
   "source": [
    "DFS traversal: 1 2 4 5 3 6 7"
   ]
  }
 ],
 "metadata": {
  "kernelspec": {
   "display_name": "base",
   "language": "python",
   "name": "python3"
  },
  "language_info": {
   "codemirror_mode": {
    "name": "ipython",
    "version": 3
   },
   "file_extension": ".py",
   "mimetype": "text/x-python",
   "name": "python",
   "nbconvert_exporter": "python",
   "pygments_lexer": "ipython3",
   "version": "3.12.7"
  }
 },
 "nbformat": 4,
 "nbformat_minor": 2
}
