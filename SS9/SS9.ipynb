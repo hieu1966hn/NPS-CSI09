{
 "cells": [
  {
   "cell_type": "markdown",
   "metadata": {},
   "source": [
    "# Buổi 9: CTDL: Stack & Queue\n",
    "- CTDL: Stack & Queue\n",
    "- Ứng dụng của từng CTDL\n"
   ]
  },
  {
   "cell_type": "markdown",
   "metadata": {},
   "source": [
    "## Stack (Ngăn Xếp)\n",
    "Stack là một cấu trúc dữ liệu tuần tự. Dữ liệu được lưu trong stack với tính chất **vào sau ra trước**\n",
    "\n",
    "Stack tương tự như một *list* với hai method quan trọng: \n",
    "- Thêm một phần tử vào cuối dãy.\n",
    "- Lấy một phần tử từ cuối dãy.\n",
    "\n",
    "VD: Ta có thể tưởng tượng stack như như một chồng sách: ta có thể đặt chồng lên một quyển sách hoặc lấy ra một quyển từ trên cùng.\n",
    "\n",
    "\n",
    "Thực tế, tùy vào cách cài đặt, stack cũng có thể thực hiện thay đổi phần tử ở đầu dãy hoặc giữa dãy. => tận dụng tính chất \"vào sau ra trước\"."
   ]
  },
  {
   "cell_type": "markdown",
   "metadata": {},
   "source": [
    "### Ứng dụng\n",
    "- Lưu các trang đã xem và di chuyển về trang trước trên trình duyệt\n",
    "- Chức năng \"undo\" trên các phần mềm như: word, VS Code, ....\n",
    "- Tính toán biểu thức nhiều đệ quy\n",
    "- Lưu trữ các lệnh gọi đệ quy."
   ]
  },
  {
   "cell_type": "markdown",
   "metadata": {},
   "source": [
    "### Code\n",
    "Stack có thể được thực hiện bằng một danh sách (list). Tuy nhiên, Python hỗ trợ class deque có độ hiệu quả cao hơn, với các phương thức thêm và lấy phần tử đều có độ phức tạp là O(1)."
   ]
  },
  {
   "cell_type": "code",
   "execution_count": 8,
   "metadata": {},
   "outputs": [
    {
     "name": "stdout",
     "output_type": "stream",
     "text": [
      "Initial stack: deque(['a', 'b', 'c'])\n",
      "\n",
      "Add element to stack: deque(['a', 'b', 'c', 'd'])\n",
      "\n",
      "Remove element from stack: deque(['a', 'b', 'c'])\n",
      "\n",
      "Get value of element from stack: c\n"
     ]
    }
   ],
   "source": [
    "from collections import deque\n",
    "\n",
    "## Khởi tạo 1 stack\n",
    "stack = deque(['a', 'b', 'c'])\n",
    "print(\"Initial stack: {}\".format(stack), end='\\n\\n')\n",
    "\n",
    "## Thêm phần tử vào stack\n",
    "stack.append(\"d\")\n",
    "print(\"Add element to stack: {}\".format(stack), end='\\n\\n')\n",
    "\n",
    "## Xóa phần tử khỏi stack\n",
    "stack.pop() ## phương thức này trả về kết quả là Element remove\n",
    "print(\"Remove element from stack: {}\".format(stack), end='\\n\\n')\n",
    "\n",
    "\n",
    "## Lấy ra giá trị của Stack\n",
    "print(\"Get value of element from stack: {}\".format(stack[-1]))\n"
   ]
  },
  {
   "cell_type": "markdown",
   "metadata": {},
   "source": [
    "## 2. Queue (Hàng đợi)\n",
    "**Queue** lưu trữ dữ liệu với tính chất **vào trước ra trước**\n",
    "\n",
    "Hai method quan trọng của queue là: \n",
    "- Thêm một phần tử vào cuối dãy\n",
    "- Lấy một phần tử từ đầu dãy\n",
    "\n",
    "VD: Queue giống như một hàng người chờ thanh toán trong siêu thị: người đến trước được thanh toán trước."
   ]
  },
  {
   "cell_type": "markdown",
   "metadata": {},
   "source": [
    "### Ứng dụng\n",
    "Queue được ứng dụng nhiều bài toán: \n",
    "- Tìm đường đi ngắn nhất trên đồ thị\n",
    "- Lưu trữ thứ tự xử lý các request đến một trang web\n",
    "- Xử lý các order trong quán trà sữa hoặc nhà hàng.\n",
    "- Xử lý các yêu cầu đặt vé xem phim online \n",
    "- Sắp xếp người chơi vào phòng game online."
   ]
  },
  {
   "cell_type": "markdown",
   "metadata": {},
   "source": [
    "### Code\n",
    "Queue cũng có thể được thực hiện bằng một **list**. Tuy nhiên, class deque cũng hỗ trợ các phương thức thêm và lấy phần tử trong queue với độ phức tạp là O(1)\n"
   ]
  },
  {
   "cell_type": "code",
   "execution_count": 13,
   "metadata": {},
   "outputs": [
    {
     "name": "stdout",
     "output_type": "stream",
     "text": [
      "Initial Queue: deque(['a', 'b', 'c'])\n",
      "\n",
      "Add element to queue: deque(['a', 'b', 'c', 'd'])\n",
      "Remove element from queue: deque(['b', 'c', 'd'])\n",
      "Get value of element from Queue: b\n"
     ]
    }
   ],
   "source": [
    "from collections import deque\n",
    "\n",
    "## Khởi tạo Queue (không khác gì stack)\n",
    "queue = deque(['a', 'b', 'c'])\n",
    "print(\"Initial Queue: {}\".format(queue), end='\\n\\n')\n",
    "\n",
    "## Thêm phần tử vào trong queue (giống hệt stack)\n",
    "queue.append('d')\n",
    "print(\"Add element to queue: {}\".format(queue))\n",
    "\n",
    "## Xóa 1 phần tử khỏi Queue\n",
    "queue.popleft() ## Return removed element\n",
    "print(\"Remove element from queue: {}\".format(queue))\n",
    "\n",
    "\n",
    "## Lấy ra giá trị của Queue\n",
    "print(\"Get value of element from Queue: {}\".format(queue[0]))"
   ]
  },
  {
   "cell_type": "markdown",
   "metadata": {},
   "source": [
    "## 3. Dequeue (Hàng đợi hai đầu)\n",
    "Class *deque* được dùng để hiện thự stack và queue trên cũng là một cấu trúc dữ liệu có tên là Deque: Double-ended Queue. Cấu trúc dữ liệu này hỗ trợ thêm và xóa phần tử ở cả 2 đầu danh sách."
   ]
  },
  {
   "cell_type": "code",
   "execution_count": 19,
   "metadata": {},
   "outputs": [
    {
     "name": "stdout",
     "output_type": "stream",
     "text": [
      "Initial deque: deque(['a', 'b', 'c'])\n",
      "\n",
      "Add element to the right: deque(['a', 'b', 'c', 'd'])\n",
      "Add element to the left: deque(['z', 'a', 'b', 'c', 'd'])\n",
      "\n",
      "Remove element fromt the right: deque(['z', 'a', 'b', 'c'])\n",
      "Remove element fromt the left: deque(['a', 'b', 'c'])\n",
      "\n",
      "Get value of element from the right: c\n",
      "Get value of element from the left: a\n"
     ]
    }
   ],
   "source": [
    "from collections import deque\n",
    "\n",
    "# Khởi tạo\n",
    "deq = deque(['a', 'b', 'c'])\n",
    "print(\"Initial deque: {}\".format(deq), end=\"\\n\\n\")\n",
    "\n",
    "## Thêm phần tử vào deque\n",
    "deq.append('d') # thêm vào cuối phải (đuôi)\n",
    "print(\"Add element to the right: {}\".format(deq))\n",
    "\n",
    "deq.appendleft(\"z\") # thêm vào đầu bên trái (đầu)\n",
    "print(\"Add element to the left: {}\".format(deq), end=\"\\n\\n\")\n",
    "\n",
    "## Xóa phần tử khỏi deque\n",
    "deq.pop()\n",
    "print(\"Remove element fromt the right: {}\".format(deq))\n",
    "\n",
    "deq.popleft()\n",
    "print(\"Remove element fromt the left: {}\".format(deq), end=\"\\n\\n\")\n",
    "\n",
    "## Lấy ra giá trị của hầng đợi đầu\n",
    "print('Get value of element from the right: {}'.format(deq[-1]))\n",
    "print('Get value of element from the left: {}'.format(deq[0]))\n",
    "\n"
   ]
  },
  {
   "cell_type": "markdown",
   "metadata": {},
   "source": [
    "## 4. Thực hành\n",
    "\n",
    "### 4.1 Dãy ngoặc đúng\n",
    "Trong Python, ta có thể dùng dấu ngoặc để nhóm các phép tính trong một biểu thức, ví dụ: (3+4)*((2-3)/4) là một phép tính hợp lệ.\n",
    "\n",
    "Tương tự như vậy, ta định nghĩa một dãy ngoặc hợp lệ là một dãy ngoặc sao cho mỗi ngoặc mở đều có ngoặc đóng tương ứng và ngược lại. Ví dụ: \n",
    "- TH1: ()(()) là một dãy ngoặc đúng\n",
    "- TH2: (()() không phải là một dãy ngoặc đúng, do ngoặc mở đầu tiên không có ngoặc đóng tương ứng.\n",
    "\n",
    "Yêu cầu: Cho một chuỗi ký tự có độ dài >0 chỉ bao gồm các dấu ngoặc mở và đóng, kiểm tra dãy ngoặc đã cho có hợp lệ hay không.\n",
    "\n",
    "Gợi ý: Đưa lần lượt từng ngoặc vào một stack, xử lsy sao cho dấu ngoặc đóng triệt tiêu dấu ngoặc mở."
   ]
  },
  {
   "cell_type": "code",
   "execution_count": null,
   "metadata": {},
   "outputs": [],
   "source": [
    "def is_valid():\n",
    "    \n",
    "is_valid(\"((()))(())\") # True/ False"
   ]
  }
 ],
 "metadata": {
  "kernelspec": {
   "display_name": "base",
   "language": "python",
   "name": "python3"
  },
  "language_info": {
   "codemirror_mode": {
    "name": "ipython",
    "version": 3
   },
   "file_extension": ".py",
   "mimetype": "text/x-python",
   "name": "python",
   "nbconvert_exporter": "python",
   "pygments_lexer": "ipython3",
   "version": "3.12.7"
  }
 },
 "nbformat": 4,
 "nbformat_minor": 2
}
