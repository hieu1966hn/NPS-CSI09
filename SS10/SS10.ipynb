{
 "cells": [
  {
   "cell_type": "markdown",
   "metadata": {},
   "source": [
    "# Buổi 10: CTDL: Tree & Graph\n",
    "- Ứng dụng của từng CTDL\n",
    "- Phân tích các bài toán có thể sử dụng Tree & Graph"
   ]
  },
  {
   "cell_type": "markdown",
   "metadata": {},
   "source": [
    "## Nhắc lại kiến thức\n",
    "- Stack: last in first out\n",
    "- Queue: first in first out\n"
   ]
  },
  {
   "cell_type": "markdown",
   "metadata": {},
   "source": [
    "## 1. Tree"
   ]
  },
  {
   "cell_type": "markdown",
   "metadata": {},
   "source": [
    "Tree là một cấu trúc dữ liệu có tính phân cấp\n",
    "\n",
    "\n",
    "Một vài tính chất của Tree:\n",
    "- Cây bắt đầu từ một phần tử gốc. Phần tử này có thể không có hoặc có nhiều phần tử con\n",
    "- Mỗi phần tử nằm sau phần tử gốc cũng có thể không có hoặc có nhiều phần tử con, nhưng mỗi phần tử đều chỉ có đúng một phần tử cha.\n",
    "- Các phần tử không có phần tử con được gọi là phần tử lá.\n",
    "- Mỗi phần tử còn được gọi là \"node\"."
   ]
  },
  {
   "cell_type": "markdown",
   "metadata": {},
   "source": [
    "## Ứng dụng\n",
    "Tree là một cấu trúc dữ liệu phổ biến và được ứng dụng trên nhiều bài toán thực tế:\n",
    "- Lưu trữ cây thư mục trên các hệ thống: Windows, linux, ...\n",
    "- Lưu trữ dữ liệu có tính chất phân cấp: Cấu trúc cấp bậc trong một tổ chức, dữ liệu dạng HTML, XML, JSON,...\n",
    "- Hỗ trợ thực hiện các thuật toán: ...\n",
    "- Làm nền tảng cho các CTDL khác : AVL tree, Heap, Priority, Queue, ...\n"
   ]
  },
  {
   "cell_type": "markdown",
   "metadata": {},
   "source": [
    "## Code\n",
    "Python không hỗ trợ CTDL sẵn có dạng tree. Tuy nhiên, ta có thể tự cài đặt tree một cách đơn giản như sau: "
   ]
  },
  {
   "cell_type": "code",
   "execution_count": null,
   "metadata": {},
   "outputs": [
    {
     "name": "stdout",
     "output_type": "stream",
     "text": [
      "Children of root: [<__main__.TreeNode object at 0x103d88ec0>, <__main__.TreeNode object at 0x103f3e3c0>]\n",
      "Children of head: [<__main__.TreeNode object at 0x103f3c380>, <__main__.TreeNode object at 0x103f3ff50>]\n",
      "Children of body: []\n"
     ]
    }
   ],
   "source": [
    "class TreeNode: \n",
    "    def __init__(self, data):\n",
    "        self.data = data\n",
    "        self.children = []\n",
    "        \n",
    "    \n",
    "# Create tree nodes\n",
    "root = TreeNode('html')\n",
    "head = TreeNode(\"head\")\n",
    "body = TreeNode(\"body\")\n",
    "meta = TreeNode(\"meta\")\n",
    "title = TreeNode(\"title\")\n",
    "\n",
    "## attach child nodes to parents\n",
    "root.children = [head, body]\n",
    "head.children = [meta, title]\n",
    "\n",
    "print(\"Children of root: {}\".format(root.children))\n",
    "print(\"Children of head: {}\".format(head.children))\n",
    "print(\"Children of body: {}\".format(body.children))\n",
    "\n",
    "\n",
    "    "
   ]
  },
  {
   "cell_type": "markdown",
   "metadata": {},
   "source": [
    "Để in ra các giá trị trong Tree, ta đệ quy để duyệt qua các phần tử"
   ]
  },
  {
   "cell_type": "code",
   "execution_count": 3,
   "metadata": {},
   "outputs": [
    {
     "name": "stdout",
     "output_type": "stream",
     "text": [
      "html\n",
      "--head\n",
      "----meta\n",
      "----title\n",
      "--body\n"
     ]
    }
   ],
   "source": [
    "def traverse_tree(tree_node, level = 0):\n",
    "    print('--'*level, end=\"\")\n",
    "    print('{}'.format(tree_node.data))\n",
    "    \n",
    "    for node in tree_node.children:\n",
    "        traverse_tree(node, level + 1)\n",
    "        \n",
    "\n",
    "traverse_tree(root)"
   ]
  },
  {
   "cell_type": "markdown",
   "metadata": {},
   "source": [
    "## 2. Graph (đồ thị)\n",
    "Graph là một cấu trúc dữ liệu gồm các đỉnh (vertex) được nối với nhau bởi các cạnh (edge).\n",
    "\n",
    "Tính chất: \n",
    "- Mỗi cạnh của một graph kết nối đúng hai đỉnh với nhau. Hai đỉnh được nối bằng cạnh được gọi là \"liền kề nhau\".\n",
    "- Một đỉnh có thể được kết nối với nhiều đỉnh khác hoặc không kết nối với đỉnh nào."
   ]
  },
  {
   "cell_type": "markdown",
   "metadata": {},
   "source": [
    "### Ứng dựng\n",
    "- Bản đồ đường bộ như: Google Maps: mỗi còn đường là một cạnh, mỗi giao lộ là một đỉnh.\n",
    "- Bản đồ đường dây điện, đường ống nước,...\n",
    "- Quan hệ bạn bè trên mạng xã hội như Facebook: Mỗi quan hệ bạn bè là một cạnh, mỗi tài khoản là một đỉnh.\n",
    "- Kết nối giữa các máy tính trong cùng mạng LAN, giữa các server Internet."
   ]
  },
  {
   "cell_type": "markdown",
   "metadata": {},
   "source": [
    "### Lưu trữ \n",
    "Có nhiều mô hình khác nhau để lưu trữ đồ thị. Một trong những cách thông dụng là lưu trữ theo dạng \"danh sách kề\": từ mỗi đỉnh, ta lưu trữ tất cả các đỉnh liền kề với nó.\n",
    "\n",
    "VD: Ta lưu trữ đồ thị trong hình minh họa theo dạng danh sách kề trong python: \n"
   ]
  },
  {
   "cell_type": "code",
   "execution_count": 4,
   "metadata": {},
   "outputs": [],
   "source": [
    "graph = {\n",
    "    0: [1, 4],\n",
    "    1: [0, 2, 3, 4],\n",
    "    2: [1, 3],\n",
    "    3: [1, 2, 4],\n",
    "    4: [0, 1, 3]\n",
    "}\n",
    "\n",
    "# Như vậy: ở một đỉnh bất kỳ như đỉnh 3, ta tìm được ba đỉnh liền kề với 3 là 1,2,4."
   ]
  },
  {
   "cell_type": "code",
   "execution_count": null,
   "metadata": {},
   "outputs": [],
   "source": [
    "graph = {\n",
    "    0: [4],\n",
    "    1: [2],\n",
    "    2: [1],\n",
    "    3: [4],\n",
    "    4: [0, 3]\n",
    "}"
   ]
  },
  {
   "cell_type": "markdown",
   "metadata": {},
   "source": [
    "Yêu cầu: Cho một đồ thị được lưu dưới dnạg danh sách kề, ta thực hiện kiểm tra hai đỉnh A và B có kết nối với nhau hay không bằng cách đi từ A, lần theo các cạnh để đi đến các đỉnh liền kề cho đến khi tìm được B. Nếu đã duyệt qua tất cả các đỉnh có thể từ A mà vẫn không tìm được B, Ta kết luận A và B không kết nối với nhau."
   ]
  }
 ],
 "metadata": {
  "kernelspec": {
   "display_name": "base",
   "language": "python",
   "name": "python3"
  },
  "language_info": {
   "codemirror_mode": {
    "name": "ipython",
    "version": 3
   },
   "file_extension": ".py",
   "mimetype": "text/x-python",
   "name": "python",
   "nbconvert_exporter": "python",
   "pygments_lexer": "ipython3",
   "version": "3.12.7"
  }
 },
 "nbformat": 4,
 "nbformat_minor": 2
}
