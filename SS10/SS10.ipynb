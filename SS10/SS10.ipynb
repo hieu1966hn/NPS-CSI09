{
 "cells": [
  {
   "cell_type": "markdown",
   "metadata": {},
   "source": [
    "# Buổi 10: CTDL: Tree & Graph\n",
    "- Ứng dụng của từng CTDL\n",
    "- Phân tích các bài toán có thể sử dụng Tree & Graph"
   ]
  },
  {
   "cell_type": "markdown",
   "metadata": {},
   "source": [
    "## Nhắc lại kiến thức\n",
    "- Stack: last in first out\n",
    "- Queue: first in first out\n"
   ]
  },
  {
   "cell_type": "markdown",
   "metadata": {},
   "source": [
    "## 1. Tree"
   ]
  },
  {
   "cell_type": "markdown",
   "metadata": {},
   "source": [
    "Tree là một cấu trúc dữ liệu có tính phân cấp\n",
    "\n",
    "\n",
    "Một vài tính chất của Tree:\n",
    "- Cây bắt đầu từ một phần tử gốc. Phần tử này có thể không có hoặc có nhiều phần tử con\n",
    "- Mỗi phần tử nằm sau phần tử gốc cũng có thể không có hoặc có nhiều phần tử con, nhưng mỗi phần tử đều chỉ có đúng một phần tử cha.\n",
    "- Các phần tử không có phần tử con được gọi là phần tử lá.\n",
    "- Mỗi phần tử còn được gọi là \"node\"."
   ]
  },
  {
   "cell_type": "markdown",
   "metadata": {},
   "source": [
    "## Ứng dụng\n",
    "Tree là một cấu trúc dữ liệu phổ biến và được ứng dụng trên nhiều bài toán thực tế:\n",
    "- Lưu trữ cây thư mục trên các hệ thống: Windows, linux, ...\n",
    "- Lưu trữ dữ liệu có tính chất phân cấp: Cấu trúc cấp bậc trong một tổ chức, dữ liệu dạng HTML, XML, JSON,...\n",
    "- Hỗ trợ thực hiện các thuật toán: ...\n",
    "- Làm nền tảng cho các CTDL khác : AVL tree, Heap, Priority, Queue, ...\n"
   ]
  },
  {
   "cell_type": "markdown",
   "metadata": {},
   "source": [
    "## Code\n",
    "Python không hỗ trợ CTDL sẵn có dạng tree. Tuy nhiên, ta có thể tự cài đặt tree một cách đơn giản như sau: "
   ]
  },
  {
   "cell_type": "code",
   "execution_count": null,
   "metadata": {},
   "outputs": [
    {
     "name": "stdout",
     "output_type": "stream",
     "text": [
      "Children of root: [<__main__.TreeNode object at 0x103d88ec0>, <__main__.TreeNode object at 0x103f3e3c0>]\n",
      "Children of head: [<__main__.TreeNode object at 0x103f3c380>, <__main__.TreeNode object at 0x103f3ff50>]\n",
      "Children of body: []\n"
     ]
    }
   ],
   "source": [
    "class TreeNode: \n",
    "    def __init__(self, data):\n",
    "        self.data = data\n",
    "        self.children = []\n",
    "        \n",
    "    \n",
    "# Create tree nodes\n",
    "root = TreeNode('html')\n",
    "head = TreeNode(\"head\")\n",
    "body = TreeNode(\"body\")\n",
    "meta = TreeNode(\"meta\")\n",
    "title = TreeNode(\"title\")\n",
    "\n",
    "## attach child nodes to parents\n",
    "root.children = [head, body]\n",
    "head.children = [meta, title]\n",
    "\n",
    "print(\"Children of root: {}\".format(root.children))\n",
    "print(\"Children of head: {}\".format(head.children))\n",
    "print(\"Children of body: {}\".format(body.children))\n",
    "\n",
    "\n",
    "    "
   ]
  },
  {
   "cell_type": "markdown",
   "metadata": {},
   "source": [
    "Để in ra các giá trị trong Tree, ta đệ quy để duyệt qua các phần tử"
   ]
  },
  {
   "cell_type": "code",
   "execution_count": 3,
   "metadata": {},
   "outputs": [
    {
     "name": "stdout",
     "output_type": "stream",
     "text": [
      "html\n",
      "--head\n",
      "----meta\n",
      "----title\n",
      "--body\n"
     ]
    }
   ],
   "source": [
    "def traverse_tree(tree_node, level = 0):\n",
    "    print('--'*level, end=\"\")\n",
    "    print('{}'.format(tree_node.data))\n",
    "    \n",
    "    for node in tree_node.children:\n",
    "        traverse_tree(node, level + 1)\n",
    "        \n",
    "\n",
    "traverse_tree(root)"
   ]
  },
  {
   "cell_type": "markdown",
   "metadata": {},
   "source": [
    "## 2. Graph (đồ thị)\n",
    "Graph là một cấu trúc dữ liệu gồm các đỉnh (vertex) được nối với nhau bởi các cạnh (edge).\n",
    "\n",
    "Tính chất: \n",
    "- Mỗi cạnh của một graph kết nối đúng hai đỉnh với nhau. Hai đỉnh được nối bằng cạnh được gọi là \"liền kề nhau\".\n",
    "- Một đỉnh có thể được kết nối với nhiều đỉnh khác hoặc không kết nối với đỉnh nào."
   ]
  },
  {
   "cell_type": "markdown",
   "metadata": {},
   "source": [
    "### Ứng dựng\n",
    "- Bản đồ đường bộ như: Google Maps: mỗi còn đường là một cạnh, mỗi giao lộ là một đỉnh.\n",
    "- Bản đồ đường dây điện, đường ống nước,...\n",
    "- Quan hệ bạn bè trên mạng xã hội như Facebook: Mỗi quan hệ bạn bè là một cạnh, mỗi tài khoản là một đỉnh.\n",
    "- Kết nối giữa các máy tính trong cùng mạng LAN, giữa các server Internet."
   ]
  },
  {
   "cell_type": "markdown",
   "metadata": {},
   "source": [
    "### Lưu trữ \n",
    "Có nhiều mô hình khác nhau để lưu trữ đồ thị. Một trong những cách thông dụng là lưu trữ theo dạng \"danh sách kề\": từ mỗi đỉnh, ta lưu trữ tất cả các đỉnh liền kề với nó.\n",
    "\n",
    "VD: Ta lưu trữ đồ thị trong hình minh họa theo dạng danh sách kề trong python: \n"
   ]
  },
  {
   "cell_type": "code",
   "execution_count": null,
   "metadata": {},
   "outputs": [],
   "source": [
    "# graph = {\n",
    "#     0: [1, 4],\n",
    "#     1: [0, 2, 3, 4],\n",
    "#     2: [1, 3],\n",
    "#     3: [1, 2, 4],\n",
    "#     4: [0, 1, 3]\n",
    "# }\n",
    "\n",
    "# Như vậy: ở một đỉnh bất kỳ như đỉnh 3, ta tìm được ba đỉnh liền kề với 3 là 1,2,4."
   ]
  },
  {
   "cell_type": "code",
   "execution_count": null,
   "metadata": {},
   "outputs": [],
   "source": [
    "graph = {\n",
    "    0: [4],\n",
    "    1: [2],\n",
    "    2: [1],\n",
    "    3: [4],\n",
    "    4: [0, 3]\n",
    "}"
   ]
  },
  {
   "cell_type": "markdown",
   "metadata": {},
   "source": [
    "Yêu cầu: Cho một đồ thị được lưu dưới dnạg danh sách kề, ta thực hiện kiểm tra hai đỉnh A và B có kết nối với nhau hay không bằng cách đi từ A, lần theo các cạnh để đi đến các đỉnh liền kề cho đến khi tìm được B. Nếu đã duyệt qua tất cả các đỉnh có thể từ A mà vẫn không tìm được B, Ta kết luận A và B không kết nối với nhau."
   ]
  },
  {
   "cell_type": "code",
   "execution_count": 7,
   "metadata": {},
   "outputs": [],
   "source": [
    "def is_connected_recursive(vertex1, vertex2, graph, visited):\n",
    "    if vertex1 == vertex2: \n",
    "        return True\n",
    "    \n",
    "    # check that the current vertex is visited\n",
    "    visited.add(vertex1)\n",
    "    \n",
    "    # check every adjacent vertices\n",
    "    for vertex in graph[vertex1]:\n",
    "        if vertex not in visited and is_connected_recursive(vertex, vertex2, graph, visited):\n",
    "            return True\n",
    "        \n",
    "        \n",
    "    return False\n",
    "\n",
    "\n",
    "def is_connected(vertex1, vertex2, graph):\n",
    "    return is_connected_recursive(vertex1, vertex2, graph, set())"
   ]
  },
  {
   "cell_type": "code",
   "execution_count": 8,
   "metadata": {},
   "outputs": [
    {
     "name": "stdout",
     "output_type": "stream",
     "text": [
      "0 is connected to 3: True\n",
      "4 is connected to 2: False\n"
     ]
    }
   ],
   "source": [
    "## Run code\n",
    "print(\"{} is connected to {}: {}\".format(0, 3, is_connected(0, 3, graph)))\n",
    "print(\"{} is connected to {}: {}\".format(4, 2, is_connected(4, 2, graph)))\n"
   ]
  },
  {
   "cell_type": "markdown",
   "metadata": {},
   "source": [
    "## 3.1. Tầng Lá\n",
    "\n",
    "Trong một cây, phần tử lá là phần tử không có phần tử con.  \n",
    "Tầng của một phần tử được định nghĩa bằng khoảng cách từ phần tử đó đến phần tử gốc.  \n",
    "\n",
    "**Ví dụ**:\n",
    "Trong cây tổ chức một file HTML ở hình trên bài học, ta có:\n",
    "- *meta, title, li, h1, a* là các phần tử lá\n",
    "- *root* nằm ở tầng 0; *head, body* nằm ở tầng 1; *li, a* nằm ở tầng 3\n",
    "\n",
    "**Yêu cầu**: Cho một cây như bên dưới, hãy tìm các phần tử lá và tầng của mỗi phần tử."
   ]
  },
  {
   "cell_type": "code",
   "execution_count": 9,
   "metadata": {},
   "outputs": [],
   "source": [
    "class TreeNode:\n",
    "    def __init__(self, data):\n",
    "        self.data = data\n",
    "        self.children = []\n",
    "\n",
    "root = TreeNode('html')\n",
    "root.children = [TreeNode('head'), TreeNode('body')]\n",
    "root.children[0].children = [TreeNode('meta'), TreeNode('title')]\n",
    "root.children[1].children = [TreeNode('h1'), TreeNode('h2'), TreeNode('ul')]\n",
    "root.children[1].children[2].children = [TreeNode('li'), TreeNode('li')]"
   ]
  },
  {
   "cell_type": "markdown",
   "metadata": {},
   "source": [
    "## 3.2. Khoảng Cách Giữa Hai Đỉnh\n",
    "\n",
    "**Yêu cầu**: Chỉnh sửa hàm <code>is_connected()</code> trên hai đỉnh của đồ thị phía trên để trả về kết quả là khoảng cách tìm được giữa hai đỉnh. Khoảng cách này là số cạnh mà ta phải đi qua từ <code>vertex1</code> đến <code>vertex2</code>. Trả về -1 nếu hai đỉnh không liên kết với nhau.\n",
    "\n",
    "![](./assets/disconnected-graph.png)\n",
    "\n",
    "Trả lời câu hỏi sau khi hoàn tất: *Khoảng cách ta tìm được từ thuật toán trên có phải là khoảng cách ngắn nhất giữa hai đỉnh không?*"
   ]
  },
  {
   "cell_type": "code",
   "execution_count": 10,
   "metadata": {},
   "outputs": [],
   "source": [
    "graph = {\n",
    "    0: [4],\n",
    "    1: [2],\n",
    "    2: [1],\n",
    "    3: [4],\n",
    "    4: [0, 3]\n",
    "}"
   ]
  }
 ],
 "metadata": {
  "kernelspec": {
   "display_name": "base",
   "language": "python",
   "name": "python3"
  },
  "language_info": {
   "codemirror_mode": {
    "name": "ipython",
    "version": 3
   },
   "file_extension": ".py",
   "mimetype": "text/x-python",
   "name": "python",
   "nbconvert_exporter": "python",
   "pygments_lexer": "ipython3",
   "version": "3.12.7"
  }
 },
 "nbformat": 4,
 "nbformat_minor": 2
}
