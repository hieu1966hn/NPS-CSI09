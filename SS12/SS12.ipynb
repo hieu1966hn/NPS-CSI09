{
 "cells": [
  {
   "cell_type": "markdown",
   "metadata": {},
   "source": [
    "# Buổi 12: Thuật toán tìm đường (phần 2)\n"
   ]
  },
  {
   "cell_type": "markdown",
   "metadata": {},
   "source": [
    "## 1. Tìm kiếm theo chiều rộng (Breadth-First Search/ BFS)\n",
    "Tương tự như DFS, **BFS** cũng là thuật toán duyệt qua các đỉnh trong một đồ thị. Với BFS, các đỉnh gần điểm bắt đầu nhất sẽ được duyệt trước, sau đó đến các đỉnh xa hơn.\n",
    "\n",
    "Thứ tự duyệt của BFS được thể hiện qua ví dụ sau:"
   ]
  },
  {
   "cell_type": "markdown",
   "metadata": {},
   "source": [
    "Nhờ đặc điểm này, thuật toán BFS đảm bảo tìm được đường đi ngắn nhất giữa hai đỉnh bất kỳ (nếu tồn tại).\n",
    "\n",
    "**Thuật toán** duyệt của BFS: 0. Khởi tạo một *queue* rỗng để chứa các đỉnh chờ duyệt\n",
    "1. Đưa đỉnh xuất phát vào *queue*, đánh dấu đỉnh xuất phát đã được duyệt\n",
    "2. Khi *queue* vẫn còn phần tử, lấy ra đỉnh tiếp theo trong *queue*, xét các đỉnh kề với đỉnh vừa lấy:\n",
    "    2.1. Nếu đỉnh đang xét chưa được duyệt => đưa đỉnh đang xét vào *queue*, đánh dấu đã được duyệt.\n",
    "    2.2 Nếu đỉnh đang xét đã được duyệt => bỏ qua."
   ]
  },
  {
   "cell_type": "markdown",
   "metadata": {},
   "source": [
    "## Code\n",
    "BFS không duyệt các đỉnh bằng *đệ quy* như DFS mà sử dụng vòng lặp và một *queue* để lưu các đỉnh chờ được duyệt."
   ]
  },
  {
   "cell_type": "code",
   "execution_count": 2,
   "metadata": {},
   "outputs": [],
   "source": [
    "from collections import deque\n",
    "\n",
    "def bfs(graph, start):\n",
    "    \n",
    "    ## Khởi tạo danh sách các đỉnh đã duyệt: dict, list, set\n",
    "    visited = set()\n",
    "    queue = deque()\n",
    "    \n",
    "    # thêm đỉnh bắt đầu\n",
    "    queue.append(start)\n",
    "    visited.add(start)\n",
    "    \n",
    "    # Lặp lại khi queue khong rỗng => tức là còn đỉnh\n",
    "    while len(queue) > 0:\n",
    "        \n",
    "        # đi đến đỉnh tiếp theo trong queue\n",
    "        vertex = queue.popleft() # lấy đỉnh đầu tiên trong queue (FIFO).\n",
    "        print(vertex, end=\" \") # In ra đỉnh đó, tức là đánh dấu đã duyệt.\n",
    "        \n",
    "        # Kiểm tra các đỉnh kề của vertex và thêm vào queue\n",
    "        for next_vertex in graph[vertex]:\n",
    "            if next_vertex not in visited:\n",
    "                queue.append(next_vertex) # thêm vào queue để duyệt sau\n",
    "                visited.add(next_vertex) # đánh dấu đã duyệt\n",
    "        "
   ]
  },
  {
   "cell_type": "code",
   "execution_count": null,
   "metadata": {},
   "outputs": [
    {
     "name": "stdout",
     "output_type": "stream",
     "text": [
      "0 1 4 2 3 "
     ]
    }
   ],
   "source": [
    "graph = {\n",
    "    0: [1,4],\n",
    "    1: [0,2,3,4],\n",
    "    2: [1,3],\n",
    "    3: [1,2,4],\n",
    "    4: [0, 1, 3]\n",
    "}\n",
    "\n",
    "# Sử dụng BFS để duyệt\n",
    "bfs(graph, 0) ## thứ tự duyệt các đỉnh"
   ]
  },
  {
   "cell_type": "markdown",
   "metadata": {},
   "source": [
    "### Ứng dụng\n",
    "Tương tự DFS, BFS được dùng để duyệt các cấu trúc đồ thị, cây và làm nền tảng cho các thuật toán phức tạp hơn trên đồ thị. Tuy nhiên, BFS có thể tim được đường đi ngắn nhất hay số bước ít nhất để giải một bài toán: \n",
    "\n",
    "- Tìm ít bước xoay nhất để giải một khối rubic\n",
    "- Tìm đường ngắn nhất để thoát khỏi mê cung\n",
    "- Xác định hướng truy đuổi cho các con \"ma\" trong game Pacman.\n"
   ]
  },
  {
   "cell_type": "markdown",
   "metadata": {},
   "source": [
    "## 2.1 Tìm đường đi ngắn nhất\n",
    "Yêu cầu: Cho một đồ thị vô hướng không có trọng số và hai đỉnh A, B bất kỳ (A khác B). Hãy tìm đường đi ngắn nhất từ A đến B dưới dạng list. Trả về list rỗng nếu không tồn tại đường đi\n",
    "\n",
    "Gợi ý: \n",
    "- Sử dụng thuật toán BFS để duyệt từ đỉnh A cho đến khi gặp đỉnh B\n",
    "- Khi đưa một đỉnh mới vào queue, lưu lại đỉnh liền trước nó để truy vấn ngược lại đường đi.\n"
   ]
  },
  {
   "cell_type": "code",
   "execution_count": 4,
   "metadata": {},
   "outputs": [],
   "source": [
    "graph = {\n",
    "    0: [1,7],\n",
    "    1: [0,2,3],\n",
    "    2: [1,5,4,8],\n",
    "    3: [1],\n",
    "    4: [2],\n",
    "    5: [2],\n",
    "    6: [7,9],\n",
    "    7: [0,6,8],\n",
    "    8: [2,7,10],\n",
    "    9: [6],\n",
    "    10:[8]\n",
    "}"
   ]
  },
  {
   "cell_type": "code",
   "execution_count": 7,
   "metadata": {},
   "outputs": [],
   "source": [
    "def find_path(graph, vertex_a, vertex_b):\n",
    "    before = bfs(graph, vertex_a, vertex_b)# Chạy BFS để tìm đường đi \n",
    "    \n",
    "    if before is None: # nếu không tìm thấy B\n",
    "        return []\n",
    "    \n",
    "    path = []\n",
    "    vertex = vertex_b\n",
    "    \n",
    "    ## Truy vết ngược lại từ B về A bằng 'before'\n",
    "    while vertex != vertex_a:\n",
    "        path.append(vertex)\n",
    "        vertex = before[vertex] # lấy đỉnh trước đó\n",
    "    \n",
    "    path.append(vertex_a) # thêm A vào đường đi\n",
    "    path.reverse() # Đảo ngược danh sách để đúng thứ tự A->B\n",
    "    return path"
   ]
  },
  {
   "cell_type": "code",
   "execution_count": 6,
   "metadata": {},
   "outputs": [],
   "source": [
    "from collections import deque\n",
    "\n",
    "def bfs(graph, vertex_a, vertex_b):\n",
    "    \n",
    "    ## Khởi tạo danh sách các đỉnh đã duyệt: dict, list, set\n",
    "    visited = set()\n",
    "    queue = deque()\n",
    "    before = {} # Dict lưu đỉnh trước đó\n",
    "    \n",
    "    # thêm đỉnh bắt đầu\n",
    "    queue.append(vertex_a) # Bắt đầu từ đỉnh A\n",
    "    visited.add(vertex_a) \n",
    "    \n",
    "    # Lặp lại khi queue khong rỗng => tức là còn đỉnh\n",
    "    while len(queue) > 0:\n",
    "        \n",
    "        # đi đến đỉnh tiếp theo trong queue\n",
    "        vertex = queue.popleft() # lấy đỉnh đầu tiên trong queue (FIFO).\n",
    "        \n",
    "        # Kiểm tra các đỉnh kề của vertex và thêm vào queue\n",
    "        for next_vertex in graph[vertex]: # Duyệt tất cả các đỉnh kề\n",
    "            if next_vertex not in visited: # nếu chưa duyệt\n",
    "                before[next_vertex] = vertex # Lưu đỉnh trước đó\n",
    "                \n",
    "                if next_vertex == vertex_b: # Nếu tìm thấy điểm B, trả về đường đi \n",
    "                    return before\n",
    "                \n",
    "                queue.append(next_vertex) # thêm vào queue để duyệt sau\n",
    "                visited.add(next_vertex) # đánh dấu đã duyệt\n",
    "    return None # nếu không tìm thấy đường đi    \n",
    "        "
   ]
  },
  {
   "cell_type": "code",
   "execution_count": 10,
   "metadata": {},
   "outputs": [
    {
     "name": "stdout",
     "output_type": "stream",
     "text": [
      "[4, 2, 8]\n",
      "[0, 7, 8]\n",
      "[1, 2, 4]\n"
     ]
    }
   ],
   "source": [
    "print(find_path(graph, 4, 8))\n",
    "print(find_path(graph, 0, 8))\n",
    "print(find_path(graph, 1, 4))"
   ]
  }
 ],
 "metadata": {
  "kernelspec": {
   "display_name": "base",
   "language": "python",
   "name": "python3"
  },
  "language_info": {
   "codemirror_mode": {
    "name": "ipython",
    "version": 3
   },
   "file_extension": ".py",
   "mimetype": "text/x-python",
   "name": "python",
   "nbconvert_exporter": "python",
   "pygments_lexer": "ipython3",
   "version": "3.12.7"
  }
 },
 "nbformat": 4,
 "nbformat_minor": 2
}
