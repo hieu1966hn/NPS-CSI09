{
 "cells": [
  {
   "cell_type": "markdown",
   "metadata": {},
   "source": [
    "# Buổi 12: Thuật toán tìm đường (phần 2)\n"
   ]
  },
  {
   "cell_type": "markdown",
   "metadata": {},
   "source": [
    "## 1. Tìm kiếm theo chiều rộng (Breadth-First Search/ BFS)\n",
    "Tương tự như DFS, **BFS** cũng là thuật toán duyệt qua các đỉnh trong một đồ thị. Với BFS, các đỉnh gần điểm bắt đầu nhất sẽ được duyệt trước, sau đó đến các đỉnh xa hơn.\n",
    "\n",
    "Thứ tự duyệt của BFS được thể hiện qua ví dụ sau:"
   ]
  },
  {
   "cell_type": "markdown",
   "metadata": {},
   "source": [
    "Nhờ đặc điểm này, thuật toán BFS đảm bảo tìm được đường đi ngắn nhất giữa hai đỉnh bất kỳ (nếu tồn tại).\n",
    "\n",
    "**Thuật toán** duyệt của BFS: 0. Khởi tạo một *queue* rỗng để chứa các đỉnh chờ duyệt\n",
    "1. Đưa đỉnh xuất phát vào *queue*, đánh dấu đỉnh xuất phát đã được duyệt\n",
    "2. Khi *queue* vẫn còn phần tử, lấy ra đỉnh tiếp theo trong *queue*, xét các đỉnh kề với đỉnh vừa lấy:\n",
    "    2.1. Nếu đỉnh đang xét chưa được duyệt => đưa đỉnh đang xét vào *queue*, đánh dấu đã được duyệt.\n",
    "    2.2 Nếu đỉnh đang xét đã được duyệt => bỏ qua."
   ]
  },
  {
   "cell_type": "markdown",
   "metadata": {},
   "source": [
    "## Code\n",
    "BFS không duyệt các đỉnh bằng *đệ quy* như DFS mà sử dụng vòng lặp và một *queue* để lưu các đỉnh chờ được duyệt."
   ]
  },
  {
   "cell_type": "code",
   "execution_count": 2,
   "metadata": {},
   "outputs": [],
   "source": [
    "from collections import deque\n",
    "\n",
    "def bfs(graph, start):\n",
    "    \n",
    "    ## Khởi tạo danh sách các đỉnh đã duyệt: dict, list, set\n",
    "    visited = set()\n",
    "    queue = deque()\n",
    "    \n",
    "    # thêm đỉnh bắt đầu\n",
    "    queue.append(start)\n",
    "    visited.add(start)\n",
    "    \n",
    "    # Lặp lại khi queue khong rỗng => tức là còn đỉnh\n",
    "    while len(queue) > 0:\n",
    "        \n",
    "        # đi đến đỉnh tiếp theo trong queue\n",
    "        vertex = queue.popleft() # lấy đỉnh đầu tiên trong queue (FIFO).\n",
    "        print(vertex, end=\" \") # In ra đỉnh đó, tức là đánh dấu đã duyệt.\n",
    "        \n",
    "        # Kiểm tra các đỉnh kề của vertex và thêm vào queue\n",
    "        for next_vertex in graph[vertex]:\n",
    "            if next_vertex not in visited:\n",
    "                queue.append(next_vertex) # thêm vào queue để duyệt sau\n",
    "                visited.add(next_vertex) # đánh dấu đã duyệt\n",
    "        "
   ]
  },
  {
   "cell_type": "code",
   "execution_count": 3,
   "metadata": {},
   "outputs": [
    {
     "name": "stdout",
     "output_type": "stream",
     "text": [
      "0 1 4 2 3 "
     ]
    }
   ],
   "source": [
    "graph = {\n",
    "    0: [1,4],\n",
    "    1: [0,2,3,4],\n",
    "    2: [1,3],\n",
    "    3: [1,2,4],\n",
    "    4: [0, 1, 3]\n",
    "}\n",
    "\n",
    "# Sử dụng BFS để duyệt\n",
    "bfs(graph, 0)"
   ]
  }
 ],
 "metadata": {
  "kernelspec": {
   "display_name": "base",
   "language": "python",
   "name": "python3"
  },
  "language_info": {
   "codemirror_mode": {
    "name": "ipython",
    "version": 3
   },
   "file_extension": ".py",
   "mimetype": "text/x-python",
   "name": "python",
   "nbconvert_exporter": "python",
   "pygments_lexer": "ipython3",
   "version": "3.12.7"
  }
 },
 "nbformat": 4,
 "nbformat_minor": 2
}
