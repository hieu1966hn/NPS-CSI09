{
 "cells": [
  {
   "cell_type": "markdown",
   "metadata": {},
   "source": [
    "## <center>Computer Science Intensive Course - MindX</center>\n",
    "![](./assets-final-test/logo.png)\n",
    "# <center>KIỂM TRA CUỐI KHÓA - ĐỀ MẪU</center>"
   ]
  },
  {
   "cell_type": "markdown",
   "metadata": {},
   "source": [
    "## Bài 1. Solve Me First\n",
    "\n",
    "**Yêu cầu**: Cho hai số nguyên *a* và *b*, hãy tính tổng của hai số.  \n",
    "\n",
    "**Input**: Hai số nguyên *1 ≤ a, b ≤ 1000*.  \n",
    "**Output**: Trả về một số nguyên duy nhất là tổng của *a* và *b*.  \n",
    "**Ví dụ**:  \n",
    "- Input: <code>7</code>, <code>3</code>\n",
    "- Output: <code>10</code>"
   ]
  },
  {
   "cell_type": "code",
   "execution_count": 1,
   "metadata": {},
   "outputs": [],
   "source": [
    "def solveMeFirst(a, b):\n",
    "    \n",
    "    # YOUR CODE HERE\n",
    "    \n",
    "    return result  # int"
   ]
  },
  {
   "cell_type": "markdown",
   "metadata": {},
   "source": [
    "## Bài 2. Xếp Vớ\n",
    "\n",
    "**Yêu cầu**: Có một số vớ cần được xếp theo đôi. Cho một mảng các số nguyên thể hiện màu của từng chiếc vớ, hãy đếm số đôi vớ có hai chiếc cùng màu.  \n",
    "\n",
    "**Ví dụ**: Cho <code>n = 7</code> chiếc vớ với các màu <code>ar = [1, 2, 1, 2, 1, 3, 2]</code>.  \n",
    "Ta tìm được một đôi có màu 1 và một đôi có màu 2. Các chiếc vớ còn lại đều bị lẻ. Tổng cộng ta tìm được 2 đôi vớ.  \n",
    "\n",
    "**Input**: Một số nguyên *1 ≤ n ≤ 100* là số chiếc vớ và một list chứa *n* phần tử là màu của từng chiếc vớ. Mỗi phần tử là một số nguyên có giá trị trong đoạn _[1,&nbsp;100]_.  \n",
    "**Output**: Trả về một số nguyên là số đôi vớ đếm được.  \n",
    "**Ví dụ**:\n",
    "- Input: <code>7</code>, <code>[1, 2, 1, 2, 1, 3, 2]</code>\n",
    "- Output: <code>2</code>"
   ]
  },
  {
   "cell_type": "code",
   "execution_count": 44,
   "metadata": {},
   "outputs": [
    {
     "name": "stdout",
     "output_type": "stream",
     "text": [
      "2\n"
     ]
    }
   ],
   "source": [
    "\n",
    "\n",
    "def sockMerchant(n, ar):\n",
    "    \n",
    "    set1 = set()\n",
    "    count = 0\n",
    "    for n in ar:\n",
    "        if n not in set1:\n",
    "            set1.add(n)\n",
    "        else:\n",
    "            set1.remove(n)\n",
    "            count += 1     \n",
    "    return count  # intπ\n",
    "print(sockMerchant(7, [1, 2, 1, 2, 1, 3, 2]))"
   ]
  },
  {
   "cell_type": "code",
   "execution_count": 47,
   "metadata": {},
   "outputs": [
    {
     "name": "stdout",
     "output_type": "stream",
     "text": [
      "<function count_trims at 0x10bc7ae80>\n"
     ]
    }
   ],
   "source": [
    "def count_trims(inp_str):\n",
    "    palindrome_length = 0\n",
    "    n = len(inp_str)\n",
    "    left = (n//2)-1\n",
    "    right = left + 1\n",
    "    if n%2 != 0:\n",
    "        right += 1\n",
    "        palindrome_length += 1\n",
    "    while left >= 0 and inp_str[left] == inp_str[right]:\n",
    "        palindrome_length += 2\n",
    "        left -= 1\n",
    "        right += 1\n",
    "    return (n - palindrome_length)//2\n",
    "print(count_trims)#😅"
   ]
  },
  {
   "cell_type": "code",
   "execution_count": null,
   "metadata": {},
   "outputs": [],
   "source": [
    "maze = [\n",
    "    ['X','X','X','X','X','X','X','X','X','X'],\n",
    "    ['X',' ',' ',' ',' ',' ','X',' ',' ','X'],\n",
    "    ['X',' ','X',' ',' ','M','X',' ','M','X'],\n",
    "    ['X',' ','X','X','X',' ','X',' ',' ','X'],\n",
    "    ['X','M',' ',' ','X',' ','X',' ',' ','X'],\n",
    "    ['X',' ',' ',' ','X',' ',' ',' ','X','X'],\n",
    "    ['X',' ','X','X','X',' ',' ',' ',' ','X'],\n",
    "    ['X',' ','X',' ',' ',' ','X',' ',' ','X'],\n",
    "    ['X',' ',' ','M',' ',' ','X',' ','E','X'],\n",
    "    ['X','X','X','X','X','X','X','X','X','X']\n",
    "]"
   ]
  },
  {
   "cell_type": "code",
   "execution_count": 52,
   "metadata": {},
   "outputs": [
    {
     "name": "stdout",
     "output_type": "stream",
     "text": [
      "Giây thứ 0: 0\n",
      "Giây thứ 1: 0\n",
      "Giây thứ 2: 0\n",
      "Giây thứ 3: 0\n",
      "Giây thứ 4: 0\n",
      "Giây thứ 5: 0\n",
      "Giây thứ 6: 0\n",
      "Giây thứ 7: 0\n",
      "Giây thứ 8: 1\n",
      "Giây thứ 9: 3\n",
      "Giây thứ 10: 3\n",
      "Giây thứ 11: 3\n",
      "Giây thứ 12: 3\n",
      "Giây thứ 13: 3\n",
      "Giây thứ 14: 3\n",
      "Giây thứ 15: 4\n",
      "Giây thứ 16: 4\n",
      "Giây thứ 17: 4\n",
      "Giây thứ 18: 4\n",
      "Giây thứ 19: 4\n"
     ]
    }
   ],
   "source": [
    "from collections import deque\n",
    "def count_escaping_mouses(maze, time):\n",
    "    # Khởi tạo hàng đợi BFS và mảng đánh dấu\n",
    "    height = (len(maze)) # xác định kích thước mê cung\n",
    "    width = len(maze[0])\n",
    "    \n",
    "    queue = deque() # Tạo hàng đợi để thực hiện BFS (ưu tiên duyệt các ô gần cửa thoát trước)\n",
    "    visited = [[False]*width for _ in range(height)] # Lưu trạng thái ô nào đã duyệt để tránh lặp lại\n",
    "    \n",
    "    ## Xác định vị trí cửa thoát \"E\"\n",
    "    for row in range(1, height -1):\n",
    "        for col in range(1, width - 1):\n",
    "            if maze[row][col] == \"E\":\n",
    "                queue.append((row, col, 0)) # thêm cửa thoát vào hàng đợi BFS với khoảng cách ban đầu là 0.\n",
    "                visited[row][col] = True # Đánh dấu vị trí này đã duyệt\n",
    "                break\n",
    "    # Bắt đầu BFS để tính khoảng cách tử cửa thoát\n",
    "    count = 0\n",
    "    \n",
    "    while len(queue) > 0: # Duyệt BFS theo hàng đợi queue, \n",
    "        row, col, distance = queue.popleft() # lấy phần tử đầu tiên ra\n",
    "        if maze[row][col] == \"M\": # Nếu ô hiện tại chứa chuột\n",
    "            count += 1 # Tăng biến đếm count\n",
    "            \n",
    "        # Duyệt các ô lân cận\n",
    "        if distance < time:\n",
    "            # Kiểm tra 4 ô lân cận: trên, phải, dưới, trái\n",
    "            for i, j in [(row -1, col), (row, col + 1), (row+1, col), (row, col - 1)]:\n",
    "                if maze[i][j] != \"X\" and not visited[i][j]: # nếu ô đó khong phải tường 'X' và chưa được duyệt thì: \n",
    "                    queue.append((i, j, distance + 1)) # thêm vào hàng đợi queue\n",
    "                    visited[i][j] = True # Đánh dấu đã duyệt để tránh quay lại ô đó\n",
    "                    \n",
    "    return count # trả về số lượng chuột có thể thoát được\n",
    "    \n",
    "## Gọi hàm\n",
    "for i in range(20):\n",
    "    print('Giây thứ {}:'.format(i), count_escaping_mouses(maze, i))\n",
    "    \n",
    "    \n",
    "## => Sau khi BFS kết thúc, trả về số lượng chuột có thể thoát được trong thời gian time bước\n",
    "    "
   ]
  },
  {
   "cell_type": "markdown",
   "metadata": {},
   "source": [
    "# END"
   ]
  }
 ],
 "metadata": {
  "kernelspec": {
   "display_name": "base",
   "language": "python",
   "name": "python3"
  },
  "language_info": {
   "codemirror_mode": {
    "name": "ipython",
    "version": 3
   },
   "file_extension": ".py",
   "mimetype": "text/x-python",
   "name": "python",
   "nbconvert_exporter": "python",
   "pygments_lexer": "ipython3",
   "version": "3.12.7"
  }
 },
 "nbformat": 4,
 "nbformat_minor": 4
}
