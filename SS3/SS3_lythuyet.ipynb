{
 "cells": [
  {
   "cell_type": "markdown",
   "metadata": {},
   "source": [
    "# BÀI 3: CÁC CẤU TRÚC DỮ LIỆU TRONG PYTHON\n"
   ]
  },
  {
   "cell_type": "code",
   "execution_count": 1,
   "metadata": {},
   "outputs": [],
   "source": [
    "# Run this cell first\n",
    "import time\n",
    "import numpy as np\n",
    "import random"
   ]
  },
  {
   "cell_type": "markdown",
   "metadata": {},
   "source": [
    "# 1. CTDL Có thứ tự\n",
    "CTDL Có thứ tự nghĩa là thứ tự các phần tử trong CTDL được đảm bảo trong quá trình lưu trữ và xử lý \n",
    "\n",
    "## 1.1 List\n",
    "List, hay một số ngôn ngữ lập trình khác gọi là (mảng - array). List thường được dùng để lưu các phần tử cùng loại. Tuy nhiên, list cũng có thể lưu trữ các phần tử khác nhau về KDL.\n",
    "\n",
    "Các đặc trưng của list trong Python\n",
    "- Có thể thể thay đổi (mutable)\n",
    "- Động (dynamic)\n",
    "- Truy cập ngẫu nhiên (random access)"
   ]
  },
  {
   "cell_type": "markdown",
   "metadata": {},
   "source": [
    "### Khởi tạo"
   ]
  },
  {
   "cell_type": "code",
   "execution_count": 1,
   "metadata": {},
   "outputs": [],
   "source": [
    "list_1 = []\n",
    "list_2 = ['a', 'b', 'c']\n",
    "\n",
    "list_3 = [x for x in range(10)]\n",
    "list_4 = list(range(10))\n",
    "list_5 = list('abcdef')\n"
   ]
  },
  {
   "cell_type": "markdown",
   "metadata": {},
   "source": [
    "### Truy vấn"
   ]
  },
  {
   "cell_type": "code",
   "execution_count": 3,
   "metadata": {},
   "outputs": [
    {
     "name": "stdout",
     "output_type": "stream",
     "text": [
      "[0, 1, 2, 3, 4]\n"
     ]
    }
   ],
   "source": [
    "print(list_4[:5])"
   ]
  },
  {
   "cell_type": "markdown",
   "metadata": {},
   "source": [
    "## 2. CTDL Không có thứ tự\n",
    "CTDL không có thứ tự nghĩa là thứ tự các phần tử trong CTDL KHÔNG được đảm bảo trong quá trình lưu trữ và xử lý"
   ]
  },
  {
   "cell_type": "markdown",
   "metadata": {},
   "source": [
    "### 2.1 Set\n",
    "**Set** lưu trữ các phần tử mà không quan tâm đến thứ tự. Các phần tử trong *set* không được trùng nhau.\n",
    "\n",
    "Set hoạt động tốt hơn list trong việc: \n",
    "- Kiểm tra một phần tử có nằm trong tập hợp hay không\n",
    "- Xóa các phần tử trùng nhau\n",
    "- Thực hiện các phép toán trên tập hợp (phép giao, phép hợp, phép hiệu)\n",
    "\n",
    "VD với SET:"
   ]
  },
  {
   "cell_type": "markdown",
   "metadata": {},
   "source": [
    "### Khởi tạo"
   ]
  },
  {
   "cell_type": "code",
   "execution_count": 12,
   "metadata": {},
   "outputs": [
    {
     "name": "stdout",
     "output_type": "stream",
     "text": [
      "{0, 1, 2, 3, 4, 5, 6, 7, 8, 9}\n",
      "{'c', 'b', 'a'}\n",
      "{'c', 'b', 'f', 'd', 'e', 'a'}\n",
      "True\n",
      "False\n"
     ]
    }
   ],
   "source": [
    "set_1 = set()\n",
    "set_2 = {'a', 'b', 'c'}\n",
    "\n",
    "set_3 = {x for x in range(10)}\n",
    "set_4 = set(range(10))\n",
    "set_5 = set('abcdef')\n",
    "\n",
    "print(set_3)\n",
    "print(set_2)\n",
    "print(set_5)\n",
    "len(set_4)\n",
    "\n",
    "print(5 in set_4)\n",
    "print(5 not in set_4)"
   ]
  },
  {
   "cell_type": "markdown",
   "metadata": {},
   "source": [
    "### Một số phương thức"
   ]
  },
  {
   "cell_type": "markdown",
   "metadata": {},
   "source": [
    "#### Thêm phần tử"
   ]
  },
  {
   "cell_type": "code",
   "execution_count": 14,
   "metadata": {},
   "outputs": [
    {
     "name": "stdout",
     "output_type": "stream",
     "text": [
      "{'mindx', 'c', 'b', 'f', 'd', 'e', 'a'}\n",
      "{'mindx', 'c', 'b', 'f', 'd', 'e', 'a'}\n"
     ]
    }
   ],
   "source": [
    "set_5 = set(\"abcdef\")\n",
    "set_5.add(\"mindx\")\n",
    "print(set_5)"
   ]
  },
  {
   "cell_type": "markdown",
   "metadata": {},
   "source": [
    "#### Xóa phần tử"
   ]
  },
  {
   "cell_type": "code",
   "execution_count": 15,
   "metadata": {},
   "outputs": [
    {
     "name": "stdout",
     "output_type": "stream",
     "text": [
      "{'c', 'b', 'f', 'd', 'e', 'a'}\n"
     ]
    }
   ],
   "source": [
    "set_5.remove(\"mindx\")\n",
    "print(set_5)"
   ]
  },
  {
   "cell_type": "markdown",
   "metadata": {},
   "source": [
    "#### Kiểm tra tập hợp con"
   ]
  },
  {
   "cell_type": "code",
   "execution_count": 16,
   "metadata": {},
   "outputs": [
    {
     "name": "stdout",
     "output_type": "stream",
     "text": [
      "set_2 is subset of set_1: True\n",
      "set_3 is subset of set_1: False\n",
      "\n"
     ]
    }
   ],
   "source": [
    "set_1 = set(\"abcdef\")\n",
    "set_2 = set(\"abc\")\n",
    "set_3 = set(\"xyz\")\n",
    "\n",
    "# Check if a set is a subset or another\n",
    "print(\"set_2 is subset of set_1: {}\".format(set_2.issubset(set_1)))\n",
    "print(\"set_3 is subset of set_1: {}\".format(set_3.issubset(set_1)))\n",
    "print()"
   ]
  },
  {
   "cell_type": "markdown",
   "metadata": {},
   "source": [
    "### Sao chép"
   ]
  },
  {
   "cell_type": "code",
   "execution_count": 17,
   "metadata": {},
   "outputs": [
    {
     "name": "stdout",
     "output_type": "stream",
     "text": [
      "copy():    {'c', 'a', 'b', 'f', 'd', 'e'}\n",
      "no copy(): {'b', 'f', 'd', 'e', 'a'}\n"
     ]
    }
   ],
   "source": [
    "set_1 = set(\"abcdef\")\n",
    "\n",
    "set_copy = set_1.copy()\n",
    "\n",
    "set_nocopy = set_1\n",
    "\n",
    "# remove a value\n",
    "set_1.remove(\"c\")\n",
    "\n",
    "print(\"copy():    {}\".format(set_copy))\n",
    "print(\"no copy(): {}\".format(set_nocopy))\n",
    "print(1)"
   ]
  },
  {
   "cell_type": "markdown",
   "metadata": {},
   "source": [
    "### Phép toán trên tập hợp"
   ]
  },
  {
   "cell_type": "code",
   "execution_count": 18,
   "metadata": {},
   "outputs": [
    {
     "name": "stdout",
     "output_type": "stream",
     "text": [
      "Intersection: {'e', 'f', 'd'}\n",
      "Union: {'c', 'b', 'f', 'd', 'e', 'i', 'g', 'a', 'h'}\n",
      "Difference: {'c', 'b', 'a'}\n"
     ]
    }
   ],
   "source": [
    "set_1 = set('abcdef')\n",
    "set_2 = set('defghi')\n",
    "\n",
    "print(\"Intersection: {}\".format(set_1.intersection(set_2))) # phép giao\n",
    "print(\"Union: {}\".format(set_1.union(set_2))) # phép hợp\n",
    "print(\"Difference: {}\".format(set_1.difference(set_2))) # phép hiệu\n"
   ]
  },
  {
   "cell_type": "markdown",
   "metadata": {},
   "source": [
    "### Mô tả thêm về đề bài\n",
    "input: (1, 2) # Stt người bỏ phiếu, STT người được bầu\n",
    "Lớp học: CSI09\n",
    "Số học viên: 5 (tính cả thầy giáo)\n",
    "\n"
   ]
  },
  {
   "cell_type": "markdown",
   "metadata": {},
   "source": [
    "### Giải đề bài"
   ]
  },
  {
   "cell_type": "code",
   "execution_count": null,
   "metadata": {},
   "outputs": [],
   "source": [
    "### 1. Xây dựng hàm get_president(ballot_list)\n",
    "Hàm này nhận vào danh sách các phiếu bầu ballot_list, sau đó xác định học sinh được bầu phiếu mới nhất"
   ]
  },
  {
   "cell_type": "code",
   "execution_count": null,
   "metadata": {},
   "outputs": [],
   "source": [
    "### 2. Xử lý các phiếu bầu trùng lặp\n",
    "ballot_set = set(ballot_list) ## remove duplicate\n",
    "\n",
    "- Dùng set() để loại bỏ các phiếu bầu trùng lặp\n",
    "- Mỗi cặp (người bầu, người được bầu) chỉ được tính một lần, kể cả khi phiếu bầu lặp lại trong ballot_list\n",
    "\n",
    "Ví dụ: "
   ]
  },
  {
   "cell_type": "code",
   "execution_count": null,
   "metadata": {},
   "outputs": [],
   "source": [
    "ballot_list = [(1,2), (1,3), (1,3), (1,3), ]\n",
    "ballot_set = {(1,2), (1,3)}"
   ]
  },
  {
   "cell_type": "markdown",
   "metadata": {},
   "source": [
    "### Đếm số phiếu phiếu hợp lệ"
   ]
  },
  {
   "cell_type": "code",
   "execution_count": null,
   "metadata": {},
   "outputs": [],
   "source": [
    "count[receiver] = count.get(receiver, 0) + 1"
   ]
  },
  {
   "cell_type": "markdown",
   "metadata": {},
   "source": [
    "- Biến count là một dictionary, dùng để lưu số phiếu mà mỗi học sinh nhận được\n",
    "- receiver là số thứ tự của học sinh được bầu\n",
    "- count.get(receiver, 0) Sẽ lấy số phiếu hiện tại của học sinh đó (nếu chưa có, mặc định là 0), sau đó tăng thêm 1.\n",
    "\n",
    "VD: \n",
    "- receiver = 2, nếu count = {}, sau khi cập nhật: count = {2: 1}.\n",
    "- receiver = 2 xuất hiện thêm lần nữa, count = {2:2}"
   ]
  },
  {
   "cell_type": "markdown",
   "metadata": {},
   "source": [
    "### 4. Kiểm tra số phiếu cao nhất\n"
   ]
  },
  {
   "cell_type": "code",
   "execution_count": null,
   "metadata": {},
   "outputs": [],
   "source": [
    "if count[receiver] == current_max:\n",
    "    current_presidents += [receiver]\n"
   ]
  },
  {
   "cell_type": "markdown",
   "metadata": {},
   "source": [
    "- Nếu học sinh hiện tại có số phiếu bằng với số phiếu cao nhất (current_max), thì thêm học sinh đó vào danh sách current_presidents"
   ]
  },
  {
   "cell_type": "code",
   "execution_count": null,
   "metadata": {},
   "outputs": [],
   "source": [
    "elif count[receiver] > current_max:\n",
    "    current_max += 1\n",
    "    current_presidents = [receiver]"
   ]
  },
  {
   "cell_type": "markdown",
   "metadata": {},
   "source": [
    "- Nếu học sinh hiện tại có số phiếu lớn hơn số phiếu cao nhất (current_max), cập nhật current_max và thay danh sách current_presidents bằng học sinh đó."
   ]
  },
  {
   "cell_type": "markdown",
   "metadata": {},
   "source": [
    "### 5. In kết quả"
   ]
  },
  {
   "cell_type": "code",
   "execution_count": null,
   "metadata": {},
   "outputs": [],
   "source": [
    "print(\"ID(s) {} | Count: {}\".format(current_presidents, current_max))"
   ]
  },
  {
   "cell_type": "markdown",
   "metadata": {},
   "source": [
    "- current_presidents: Chứa dánh sách học sinh được bầu nhiều phiếu nhất.\n",
    "- current_max: là số phiếu cao nhất."
   ]
  },
  {
   "cell_type": "code",
   "execution_count": null,
   "metadata": {},
   "outputs": [],
   "source": []
  },
  {
   "cell_type": "code",
   "execution_count": null,
   "metadata": {},
   "outputs": [],
   "source": []
  }
 ],
 "metadata": {
  "kernelspec": {
   "display_name": "Python 3",
   "language": "python",
   "name": "python3"
  },
  "language_info": {
   "codemirror_mode": {
    "name": "ipython",
    "version": 3
   },
   "file_extension": ".py",
   "mimetype": "text/x-python",
   "name": "python",
   "nbconvert_exporter": "python",
   "pygments_lexer": "ipython3",
   "version": "3.13.0"
  }
 },
 "nbformat": 4,
 "nbformat_minor": 4
}
